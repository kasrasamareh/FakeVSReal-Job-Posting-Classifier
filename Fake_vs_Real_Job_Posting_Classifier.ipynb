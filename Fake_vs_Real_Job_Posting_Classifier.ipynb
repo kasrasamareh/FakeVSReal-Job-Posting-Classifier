{
  "cells": [
    {
      "cell_type": "code",
      "execution_count": null,
      "metadata": {
        "id": "FMT69EbjubEH"
      },
      "outputs": [],
      "source": []
    },
    {
      "cell_type": "code",
      "execution_count": null,
      "metadata": {
        "id": "hWeaHd2-ubEL"
      },
      "outputs": [],
      "source": [
        "import numpy as np\n",
        "import pandas as pd"
      ]
    },
    {
      "cell_type": "code",
      "execution_count": null,
      "metadata": {
        "id": "z_4b-j9iubEM"
      },
      "outputs": [],
      "source": [
        "# Importing libraries\n",
        "import sklearn as sk\n",
        "import seaborn as sns\n",
        "import matplotlib.pyplot as plt\n",
        "from sklearn.linear_model import LogisticRegression\n",
        "from sklearn.ensemble import RandomForestClassifier\n",
        "from sklearn.model_selection import train_test_split\n",
        "from sklearn.preprocessing import OneHotEncoder\n",
        "from sklearn.compose import ColumnTransformer\n",
        "from sklearn import feature_selection\n",
        "from sklearn.impute import SimpleImputer\n",
        "import sklearn_pandas"
      ]
    },
    {
      "cell_type": "code",
      "execution_count": null,
      "metadata": {
        "id": "-VnShEX9ubEN"
      },
      "outputs": [],
      "source": [
        "df_job=pd.read_csv('fake_job_postings.csv')\n",
        "df_job.head(2)"
      ]
    },
    {
      "cell_type": "code",
      "execution_count": null,
      "metadata": {
        "id": "21pmWNQ8ubEN"
      },
      "outputs": [],
      "source": [
        "# yek series az field haye unique misazad ke dar on faghat feature 'function' dar nazar gerefte mishavad. Darvaghe yek taraf feature haye unique hastand va taraf digar teedad tekrar onah mibashad.\n",
        "df_job['function'].value_counts()\n",
        "stem = ['Information Technology', 'Engineering', 'Data Analyst', 'Science', 'Business Analyst', 'Quality Assurance']\n",
        "non_stem = ['Sales', 'Customer Service', 'Marketing', 'Administrative', 'Design', 'Human Resources']\n",
        "# joda sazi {'Information Technology', 'Engineering', 'Data Analyst', 'Science', 'Business Analyst', 'Quality Assurance'} shoghl ha\n",
        "df_stem = df_job[df_job['function'].isin(stem)]\n",
        "# joda sazi {'Sales', 'Customer Service', 'Marketing', 'Administrative', 'Design', 'Human Resources'} shoghl ha\n",
        "df_non_stem = df_job[df_job['function'].isin(non_stem)]\n",
        "\n",
        "# yek series az field haye unique misazad ke dar on faghat feature 'fraudulent' dar nazar gerefte mishavad.\n",
        "df_non_stem['fraudulent'].value_counts()"
      ]
    },
    {
      "cell_type": "code",
      "execution_count": null,
      "metadata": {
        "id": "7gaE0bqWubEO"
      },
      "outputs": [],
      "source": [
        "import matplotlib.pyplot as plt\n",
        "\n",
        "# on teedadi ke 'fraudulent (jaali)' value mosavi ba 0 dare O (ke unique hast be dalile 'value_counts()' function) ro dar 'stem_zero' mirizim, be zabane sade tar agahi haye 'stem' jaali\n",
        "stem_zero = df_stem['fraudulent'].value_counts()[0]\n",
        "# on teedadi ke 'fraudulent (jaali)' value mosavi ba 1 dare O (ke unique hast be dalile 'value_counts()' function) ro dar 'stem_one' mirizim, be zabane sade tar agahi haye 'stem' vaghei\n",
        "stem_one = df_stem['fraudulent'].value_counts()[1]\n",
        "# on teedadi ke 'fraudulent (jaali)' value mosavi ba 0 dare O (ke unique hast be dalile 'value_counts()' function) ro dar 'non_stem_zero' mirizim, be zabane sade tar agahi haye 'non_stem' jaali\n",
        "non_stem_zero = df_non_stem['fraudulent'].value_counts()[0]\n",
        "# on teedadi ke 'fraudulent (jaali)' value mosavi ba 1 dare O (ke unique hast be dalile 'value_counts()' function) ro dar 'non_stem_one' mirizim, be zabane sade tar agahi haye 'non_stem' vaghei\n",
        "non_stem_one = df_non_stem['fraudulent'].value_counts()[1]\n",
        "\n",
        "labels = 'Real Job Posting (Agahi haye vaghei)', 'Fraudulent (Agahi haye jaali)'\n",
        "sizes = [stem_zero, stem_one]\n",
        "# 'explode' dar vaghe baraye barjeste kardan dar nemidore dayerei be kar miravad.\n",
        "explode = (0, 0.1)\n",
        "\n",
        "colors = ['#C0C0C0','#CFFFA6']\n",
        "\n",
        "fig1, ax1 = plt.subplots(figsize = (10, 10))\n",
        "ax1.pie(sizes, explode=explode, colors=colors, labels = labels, autopct='%1.1f%%',\n",
        "        shadow=True, startangle=90)\n",
        "ax1.axis('equal')# Baraye besorate dayerei keshidan shekl.\n",
        "plt.title('STEM (Vaziat e kolli Agahi haye STEM)')\n",
        "plt.legend()\n",
        "plt.show()"
      ]
    },
    {
      "cell_type": "code",
      "execution_count": null,
      "metadata": {
        "id": "LAaCvx5FubEO"
      },
      "outputs": [],
      "source": [
        "labels = 'Real Job Posting (Agahi haye dorost)', 'Fraudulent (Agahi haye jaali)'\n",
        "sizes_non_stem = [non_stem_zero, non_stem_one]\n",
        "# 'explode' dar vaghe baraye barjeste kardan dar nemidore dayerei be kar miravad\n",
        "explode = (0, 0.1)\n",
        "\n",
        "fig1, ax1 = plt.subplots(figsize = (10, 10))\n",
        "ax1.pie(sizes_non_stem, explode=explode, colors = colors, labels = labels, autopct='%1.1f%%',\n",
        "        shadow=True, startangle=90)\n",
        "ax1.axis('equal')# Baraye besorate dayerei keshidan shekl.\n",
        "plt.title('NON_STEM (Vaziat e kolli agahi haye Non STEM)')\n",
        "plt.show()"
      ]
    },
    {
      "cell_type": "code",
      "execution_count": null,
      "metadata": {
        "id": "Qs3ioGCyubEP"
      },
      "outputs": [],
      "source": [
        "labels = 'Real Job Posting (Agahi haye dorost)', 'Fraudulent (Agahi haye jaali)'\n",
        "sizes_total = [non_stem_zero+stem_zero, non_stem_one+stem_one]\n",
        "# 'explode' dar vaghe baraye barjeste kardan dar nemidore dayerei be kar miravad\n",
        "explode = (0, 0.1)\n",
        "\n",
        "fig1, ax1 = plt.subplots(figsize = (10, 10))\n",
        "ax1.pie(sizes_total, explode=explode, colors = colors, labels = labels, autopct='%1.1f%%',\n",
        "        shadow=True, startangle=90)\n",
        "ax1.axis('equal')# Baraye besorate dayerei keshidan shekl.\n",
        "plt.title('NON_STEM U STEM (Vaziat e kolli agahi ha)')\n",
        "plt.show()"
      ]
    },
    {
      "cell_type": "code",
      "execution_count": null,
      "metadata": {
        "id": "2QuiPZsIubEQ"
      },
      "outputs": [],
      "source": [
        "# job haye vaghei ra az jaali joda karde va dar 'df_real' zakhire mikonim\n",
        "df_real = df_job.loc[df_job['fraudulent']==0]\n",
        "# job haye jaali ra az vaghei joda karde va dar 'df_fake' zakhire mikonim\n",
        "df_fake = df_job.loc[df_job['fraudulent']==1]\n",
        "# 'description' ra be type string da miavarim\n",
        "df_real['description'] = df_real['description'].astype('str')\n",
        "# 'description' ra be type string da miavarim\n",
        "df_fake['description'] = df_fake['description'].astype('str')"
      ]
    },
    {
      "cell_type": "code",
      "execution_count": null,
      "metadata": {
        "id": "ClYeMBm1ubEQ"
      },
      "outputs": [],
      "source": [
        "# Dar inja ba estefade az library 'wordcloud' ma dar ghesmate 'description' job haye vaghei[ke dar ghesmate bala az peykare asli estekhraj shodeh bood] har kalamei ra ke bishtar tekrar shode bood ra be tor basari namayesh midahim.\n",
        "from wordcloud import WordCloud, STOPWORDS, ImageColorGenerator\n",
        "\n",
        "target_text = \" \".join(df_real['description'])\n",
        "wordcloud = WordCloud(width=1400, height=700).generate(text=target_text)\n",
        "plt.figure(figsize=(20,10))\n",
        "plt.imshow(wordcloud, interpolation=\"bilinear\")\n",
        "plt.axis(\"off\")\n",
        "plt.show()"
      ]
    },
    {
      "cell_type": "code",
      "execution_count": null,
      "metadata": {
        "id": "AnqiK7RiubER"
      },
      "outputs": [],
      "source": [
        "# Dar inja ba estefade az library 'wordcloud' ma dar ghesmate 'description' job haye jaali[ke dar 2 ghesmate bala az peykare asli estekhraj shodeh bood] har kalamei ra ke bishtar tekrar shode bood ra be tor basari namayesh midahim.\n",
        "target_text = \" \".join(df_fake['description'])\n",
        "wordcloud = WordCloud(width=1400, height=700).generate(text = target_text)\n",
        "plt.figure(figsize=(20,10))\n",
        "plt.imshow(wordcloud, interpolation=\"bilinear\")\n",
        "plt.axis(\"off\")\n",
        "plt.show()"
      ]
    },
    {
      "cell_type": "code",
      "execution_count": null,
      "metadata": {
        "id": "RtUsRZCzubER"
      },
      "outputs": [],
      "source": [
        "# Baraye normal sazi va dorost kardane data mibashad in tike va porkardane NULL ha NaN ha.\n",
        "from sklearn.linear_model import LogisticRegression\n",
        "from sklearn.ensemble import RandomForestClassifier\n",
        "from sklearn.model_selection import train_test_split\n",
        "from sklearn.preprocessing import OneHotEncoder\n",
        "from sklearn.compose import ColumnTransformer\n",
        "from sklearn import feature_selection\n",
        "from sklearn.impute import SimpleImputer\n",
        "\n",
        "# ghesmate 'department' on job haei ke 'None' hastand ra ba mode 'department' jayozin mokonad  ##COULD BE CHANGE mode-medium-mean\n",
        "df_job['department'] = df_job['department'].fillna(df_job['department'].mode()[0])\n",
        "# 'SimpleImputer()' yek class az library scikit-learn ast ke ke baraye jaygozini e 'NaN' ha ba yek element mibashad\n",
        "# be jaye 'strategy=\"constant\"' mitavan az \" ‘mean’(default), ‘median’, ‘most_frequent’\" estefadeh kard.\n",
        "# value haei ke NaN hastand ra ba 'Missing' por mikonim\n",
        "data_cat_imp=SimpleImputer(strategy=\"constant\",fill_value=\"Missing\")\n",
        "cat_imp_feature=[\"title\",\"location\",\"department\",\"salary_range\",\"company_profile\",\"description\",\"requirements\",\"benefits\",\n",
        "                 \"employment_type\",\"required_experience\",\"required_education\",\"industry\",\"function\"]\n",
        "\n",
        "# value haei ke NULL hastand ra ba 0 por mikonim\n",
        "data_num_imp=SimpleImputer(strategy=\"constant\",fill_value=None)\n",
        "num_imp_feature =[\"job_id\",\"telecommuting\",\"has_company_logo\",\"has_questions\",\"fraudulent\"]\n",
        "\n",
        "# Transform kardan data ha be column(feature[soton]) ha\n",
        "data_imp_trans=ColumnTransformer([(\"data_cat_imp\",data_cat_imp,cat_imp_feature),\n",
        "                                 (\"data_num_imp\",data_num_imp,num_imp_feature)])\n",
        "\n",
        "# Transform kardan va nesbat dadane data ha be column(feature[soton]) ha\n",
        "transformed_data=data_imp_trans.fit_transform(df_job)\n",
        "transformed_data\n",
        "\n",
        "# Transform kardandata ha be DataFrame\n",
        "df_job_transformed_data=pd.DataFrame(transformed_data,\n",
        "                         columns=[\"title\",\"location\",\"department\",\"salary_range\",\"company_profile\",\"description\",\n",
        "                                  \"requirements\",\"benefits\", \"employment_type\",\"required_experience\",\"required_education\",\n",
        "                                  \"industry\",\"function\",\"job_id\",\"telecommuting\",\"has_company_logo\",\"has_questions\",\n",
        "                                  \"fraudulent\"])\n",
        "\n",
        "# yek column misazim va column 'fraudulent' ra hazf mikonim\n",
        "X_trans = df_job_transformed_data.drop(\"fraudulent\",axis=1)\n",
        "y_trans = df_job_transformed_data.fraudulent\n",
        "y_trans=y_trans.astype('int')\n",
        "\n",
        "X_trans.shape, y_trans.shape,X_trans.columns\n",
        "\n",
        "# anjame amaliat On Hot Encoder baraye feature haye [\"title\",\"location\",\"department\",\"salary_range\",\"company_profile\",\"description\",\"requirements\",\"benefits\", \"employment_type\",\"required_experience\",\"required_education\",\"industry\",\"function\"] va tabdil anha be aadad.\n",
        "one_hot=OneHotEncoder()\n",
        "clf_trans=ColumnTransformer([(\"one_hot\",one_hot,cat_imp_feature)],remainder=\"passthrough\")\n",
        "X_trans_fin=clf_trans.fit_transform(X_trans)\n",
        "np.array(X_trans_fin)\n",
        "\n",
        "X_train,X_test,y_train,y_test=train_test_split(X_trans_fin,y_trans,test_size=0.25, random_state=0)\n",
        "X_train.shape,X_test.shape,y_train.shape,y_test.shape"
      ]
    },
    {
      "cell_type": "code",
      "execution_count": null,
      "metadata": {
        "id": "QW5S1BahubES"
      },
      "outputs": [],
      "source": [
        "from sklearn.ensemble import RandomForestClassifier\n",
        "from sklearn.tree import DecisionTreeClassifier\n",
        "from sklearn.linear_model import LogisticRegression\n",
        "from sklearn.neural_network import MLPClassifier\n",
        "from sklearn.svm import SVC\n",
        "from sklearn.metrics import accuracy_score\n",
        "\n",
        "# Random forest\n",
        "model_rfm=RandomForestClassifier(n_estimators=100, max_depth=None, random_state=0)\n",
        "model_rfm.fit(X_train,y_train)\n",
        "y_pred_rfm = model_rfm.predict(X_test)\n",
        "rfc_accuracy = model_rfm.score(X_test, y_test)\n",
        "\n",
        "# Decision Tree\n",
        "model_dtc = DecisionTreeClassifier(max_depth=100, random_state=0)\n",
        "model_dtc.fit(X_train, y_train)\n",
        "y_pred_dtc = model_dtc.predict(X_test)\n",
        "dtc_accuracy = model_dtc.score(X_test, y_test)\n",
        "\n",
        "# Logistic regression\n",
        "model_logreg = LogisticRegression(solver='liblinear', random_state=0)\n",
        "model_logreg.fit(X_train, y_train)\n",
        "y_prob = model_logreg.predict_proba(X_test)\n",
        "Y_pred = pd.Series([1 if x > 0.5 else 0 for x in y_prob[:,1]], index = y_test.index)\n",
        "lg_accuracy = model_logreg.score(X_test, y_test)\n",
        "\n",
        "# Neural Network\n",
        "clf = MLPClassifier(hidden_layer_sizes=(10,10,10,10,10,10,), max_iter=100,\n",
        "                     activation='tanh', solver='lbfgs', learning_rate='constant',learning_rate_init=0.01, verbose=True,  random_state=0)\n",
        "clf.fit(X_train,y_train)\n",
        "y_pred_test = clf.predict(X_test)\n",
        "nn_accuracy = accuracy_score(y_pred_test,y_test)\n",
        "\n",
        "print(\"Random Forest accuracy\", rfc_accuracy)\n",
        "print(\"Decision Tree accuracy\", dtc_accuracy)\n",
        "print(\"Logistic Regression accuracy\", lg_accuracy)\n",
        "print(\"Neural Network accuracy\", nn_accuracy)"
      ]
    },
    {
      "cell_type": "code",
      "execution_count": null,
      "metadata": {
        "id": "9KR2hhwYubES"
      },
      "outputs": [],
      "source": [
        "import matplotlib.pyplot as plt\n",
        "fig = plt.figure()\n",
        "\n",
        "c = ['#CFFFA6']\n",
        "\n",
        "ax = fig.add_axes([0,0,1,1])\n",
        "models = ['Decision Tree', 'Random Forest', 'Logistic Regression', 'Neural Network']\n",
        "accuracy = [dtc_accuracy,rfc_accuracy, lg_accuracy,nn_accuracy]\n",
        "ax.bar(models,accuracy)\n",
        "ax.set_ylim([0.9, 1])\n",
        "ax.set_xlabel('Models (Model ha)')\n",
        "ax.set_ylabel('Accuracy (Deghat)')\n",
        "ax.set_title('Accuracy by Models (Deghat / Model ha)')\n",
        "plt.bar(models, height = accuracy, color = c)"
      ]
    },
    {
      "cell_type": "code",
      "execution_count": null,
      "metadata": {
        "id": "IFGayhKPubET"
      },
      "outputs": [],
      "source": [
        "feature_dict=dict(zip((df_job.columns),list(model_rfm.feature_importances_)))\n",
        "\n",
        "log_val = []\n",
        "for i in feature_dict.values():\n",
        "    log_val.append(np.log(i))\n",
        "\n",
        "log_val = np.nan_to_num(log_val, neginf=0)\n",
        "log_val = [i * (-1) for i in log_val]\n",
        "names = list(feature_dict.keys())\n",
        "dictionary = dict(zip(names, log_val))\n",
        "\n",
        "sorted_dict = dict(sorted(dictionary.items(), key=lambda item: item[1], reverse = True))\n",
        "names = []\n",
        "values = []\n",
        "\n",
        "for k, v in sorted_dict.items():\n",
        "    if v != -0.0:\n",
        "        names.append(k)\n",
        "        values.append(v)\n",
        "\n",
        "plt.figure(figsize = (18, 10))\n",
        "colors = ['#CFFFA6']\n",
        "plt.barh(range(len(values)), values, tick_label=names, color = colors[0])\n",
        "plt.xticks(rotation=45)\n",
        "plt.title('Feature importance (Ahamiat har feature)')\n",
        "plt.show()"
      ]
    }
  ],
  "metadata": {
    "interpreter": {
      "hash": "7c98f32659d23643c1968b04a14f3cfd245fcdcb99b11e028409c122c120ae03"
    },
    "kernelspec": {
      "display_name": "Python 3.10.4 64-bit",
      "language": "python",
      "name": "python3"
    },
    "language_info": {
      "codemirror_mode": {
        "name": "ipython",
        "version": 3
      },
      "file_extension": ".py",
      "mimetype": "text/x-python",
      "name": "python",
      "nbconvert_exporter": "python",
      "pygments_lexer": "ipython3",
      "version": "3.10.4"
    },
    "orig_nbformat": 4,
    "colab": {
      "provenance": []
    }
  },
  "nbformat": 4,
  "nbformat_minor": 0
}